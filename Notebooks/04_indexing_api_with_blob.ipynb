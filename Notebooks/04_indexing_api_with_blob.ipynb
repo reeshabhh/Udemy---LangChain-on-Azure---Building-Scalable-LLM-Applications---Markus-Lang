{
 "cells": [
  {
   "cell_type": "code",
   "execution_count": 1,
   "metadata": {},
   "outputs": [
    {
     "data": {
      "text/plain": [
       "True"
      ]
     },
     "execution_count": 1,
     "metadata": {},
     "output_type": "execute_result"
    }
   ],
   "source": [
    "from dotenv import load_dotenv, find_dotenv\n",
    "\n",
    "load_dotenv(find_dotenv('../application/.env'))"
   ]
  },
  {
   "cell_type": "code",
   "execution_count": 2,
   "metadata": {},
   "outputs": [
    {
     "name": "stderr",
     "output_type": "stream",
     "text": [
      "c:\\Users\\reesh\\anaconda3\\envs\\course\\Lib\\site-packages\\langchain_core\\_api\\deprecation.py:119: LangChainPendingDeprecationWarning: This class is pending deprecation and may be removed in a future version. You can swap to using the `PGVector` implementation in `langchain_postgres`. Please read the guidelines in the doc-string of this class to follow prior to migrating as there are some differences between the implementations. See https://github.com/langchain-ai/langchain-postgres for details aboutthe new implementation.\n",
      "  warn_deprecated(\n",
      "c:\\Users\\reesh\\anaconda3\\envs\\course\\Lib\\site-packages\\langchain_community\\vectorstores\\pgvector.py:322: LangChainPendingDeprecationWarning: Please use JSONB instead of JSON for metadata. This change will allow for more efficient querying that involves filtering based on metadata.Please note that filtering operators have been changed when using JSOB metadata to be prefixed with a $ sign to avoid name collisions with columns. If you're using an existing database, you will need to create adb migration for your metadata column to be JSONB and update your queries to use the new operators. \n",
      "  warn_deprecated(\n"
     ]
    }
   ],
   "source": [
    "from langchain.indexes import SQLRecordManager, index\n",
    "import os\n",
    "from langchain_openai.embeddings import OpenAIEmbeddings\n",
    "from langchain.vectorstores.pgvector import PGVector\n",
    "\n",
    "\n",
    "host = os.getenv(\"PG_VECTOR_HOST\")\n",
    "user = os.getenv(\"PG_VECTOR_USER\")\n",
    "password = os.getenv(\"PG_VECTOR_PASSWORD\")\n",
    "COLLECTION_NAME = os.getenv(\"PGDATABASE\")\n",
    "CONNECTION_STRING = f\"postgresql+psycopg2://{user}:{password}@{host}:5432/{COLLECTION_NAME}\"\n",
    "\n",
    "namespace = f\"pgvector/{COLLECTION_NAME}\"\n",
    "record_manager = SQLRecordManager(\n",
    "    namespace, db_url=CONNECTION_STRING\n",
    ")\n",
    "\n",
    "embeddings = OpenAIEmbeddings()\n",
    "\n",
    "vector_store = PGVector(\n",
    "    embedding_function=embeddings,\n",
    "    collection_name=COLLECTION_NAME,\n",
    "    connection_string=CONNECTION_STRING,\n",
    ")"
   ]
  },
  {
   "cell_type": "code",
   "execution_count": 3,
   "metadata": {},
   "outputs": [
    {
     "data": {
      "text/plain": [
       "{'num_added': 0, 'num_updated': 0, 'num_skipped': 0, 'num_deleted': 0}"
      ]
     },
     "execution_count": 3,
     "metadata": {},
     "output_type": "execute_result"
    }
   ],
   "source": [
    "index([], record_manager, vector_store, cleanup=\"full\", source_id_key=\"source\")"
   ]
  },
  {
   "cell_type": "code",
   "execution_count": 11,
   "metadata": {},
   "outputs": [],
   "source": [
    "import os\n",
    "from langchain_community.document_loaders import AzureBlobStorageContainerLoader\n",
    "from langchain.text_splitter import RecursiveCharacterTextSplitter\n",
    "\n",
    "def load_and_split_documents(chunk_size=200, chunk_overlap=20):\n",
    "    conn_str = os.getenv(\"BLOB_CONN_STRING\")\n",
    "    container_name = os.getenv(\"BLOB_CONTAINER\")\n",
    "\n",
    "    if conn_str is None or container_name is None:\n",
    "        raise ValueError(\"Environment variables for BLOB_CONN_STRING or BLOB_CONTAINER are not set.\")\n",
    "\n",
    "    loader = AzureBlobStorageContainerLoader(conn_str=conn_str, container=container_name)\n",
    "    data = loader.load()\n",
    "    text_splitter = RecursiveCharacterTextSplitter(chunk_size=chunk_size, chunk_overlap=chunk_overlap, length_function=len, is_separator_regex=False)\n",
    "    return text_splitter.split_documents(data)\n"
   ]
  },
  {
   "cell_type": "code",
   "execution_count": 12,
   "metadata": {},
   "outputs": [
    {
     "data": {
      "text/plain": [
       "[Document(page_content='At La Tavola Calda, we believe in the art of simplicity and the beauty of tradition. Our carefully curated pizza menu, featuring just four exquisite varieties, is a testament to our commitment to', metadata={'source': 'C:\\\\Users\\\\reesh\\\\AppData\\\\Local\\\\Temp\\\\tmpzym_t2id/udemycontainerazure/food.txt'}),\n",
       " Document(page_content='our commitment to quality over quantity. Each pizza represents a distinct aspect of Italian culinary heritage, crafted with the freshest ingredients and the utmost care.', metadata={'source': 'C:\\\\Users\\\\reesh\\\\AppData\\\\Local\\\\Temp\\\\tmpzym_t2id/udemycontainerazure/food.txt'}),\n",
       " Document(page_content='We offer four pizzas: Margherita, Salami, Quattro Formaggi, Marshmallow', metadata={'source': 'C:\\\\Users\\\\reesh\\\\AppData\\\\Local\\\\Temp\\\\tmpzym_t2id/udemycontainerazure/food.txt'}),\n",
       " Document(page_content=\"Pizza Margherita - The Classic Perfection: Paying homage to the colors of the Italian flag, our Margherita is a blend of ripe tomatoes, fresh mozzarella, and basil. It's a timeless classic that lets\", metadata={'source': 'C:\\\\Users\\\\reesh\\\\AppData\\\\Local\\\\Temp\\\\tmpzym_t2id/udemycontainerazure/food.txt'}),\n",
       " Document(page_content='classic that lets the purity and freshness of the ingredients shine through.', metadata={'source': 'C:\\\\Users\\\\reesh\\\\AppData\\\\Local\\\\Temp\\\\tmpzym_t2id/udemycontainerazure/food.txt'}),\n",
       " Document(page_content='Pizza Salami - The Flavorful Journey: For those who crave a bit of zest, our Salami pizza offers a spicy kick. The robust flavors of cured Italian salami are balanced by the mellow mozzarella, making', metadata={'source': 'C:\\\\Users\\\\reesh\\\\AppData\\\\Local\\\\Temp\\\\tmpzym_t2id/udemycontainerazure/food.txt'}),\n",
       " Document(page_content='mozzarella, making every bite a bold experience.', metadata={'source': 'C:\\\\Users\\\\reesh\\\\AppData\\\\Local\\\\Temp\\\\tmpzym_t2id/udemycontainerazure/food.txt'}),\n",
       " Document(page_content='Pizza Quattro Formaggi - The Cheese Lover’s Dream: A quartet of Italian cheeses, each lending its unique texture and taste, comes together for a pizza that’s sumptuously indulgent. It’s a melody of', metadata={'source': 'C:\\\\Users\\\\reesh\\\\AppData\\\\Local\\\\Temp\\\\tmpzym_t2id/udemycontainerazure/food.txt'}),\n",
       " Document(page_content='It’s a melody of flavors that cheese aficionados will savor down to the last slice.', metadata={'source': 'C:\\\\Users\\\\reesh\\\\AppData\\\\Local\\\\Temp\\\\tmpzym_t2id/udemycontainerazure/food.txt'}),\n",
       " Document(page_content='Marshmallow Pizza - The Sweet Innovation: Embracing both tradition and creativity, this dessert pizza is a delightful surprise. It blends the warmth of toasted marshmallows with a rich chocolate', metadata={'source': 'C:\\\\Users\\\\reesh\\\\AppData\\\\Local\\\\Temp\\\\tmpzym_t2id/udemycontainerazure/food.txt'}),\n",
       " Document(page_content=\"a rich chocolate sauce, creating a dessert that's unforgettably indulgent.\", metadata={'source': 'C:\\\\Users\\\\reesh\\\\AppData\\\\Local\\\\Temp\\\\tmpzym_t2id/udemycontainerazure/food.txt'}),\n",
       " Document(page_content='By focusing on just four pizzas, we dedicate our time to perfect each one. We invest in sourcing the highest quality ingredients and spend hours perfecting the dough and sauce. This allows us to', metadata={'source': 'C:\\\\Users\\\\reesh\\\\AppData\\\\Local\\\\Temp\\\\tmpzym_t2id/udemycontainerazure/food.txt'}),\n",
       " Document(page_content=\"This allows us to ensure that every pizza served is not just a meal but an authentic Italian experience. At La Tavola Calda, each pizza is not just cooked; it's crafted with passion and served with\", metadata={'source': 'C:\\\\Users\\\\reesh\\\\AppData\\\\Local\\\\Temp\\\\tmpzym_t2id/udemycontainerazure/food.txt'}),\n",
       " Document(page_content='and served with pride.', metadata={'source': 'C:\\\\Users\\\\reesh\\\\AppData\\\\Local\\\\Temp\\\\tmpzym_t2id/udemycontainerazure/food.txt'}),\n",
       " Document(page_content='La Tavola Calda - Delivery Service & Opening Hours', metadata={'source': 'C:\\\\Users\\\\reesh\\\\AppData\\\\Local\\\\Temp\\\\tmpw44sfbvj/udemycontainerazure/opening_hours.txt'}),\n",
       " Document(page_content='At La Tavola Calda, we bring the taste of Italy straight to your doorstep. Our modern approach to traditional dining includes a seamless delivery service designed for your convenience. By simply', metadata={'source': 'C:\\\\Users\\\\reesh\\\\AppData\\\\Local\\\\Temp\\\\tmpw44sfbvj/udemycontainerazure/opening_hours.txt'}),\n",
       " Document(page_content=\"By simply engaging with our friendly chatbot, you can place your order at any time, and we'll ensure that your favorite pizzas are on their way to you, hot and fresh.\", metadata={'source': 'C:\\\\Users\\\\reesh\\\\AppData\\\\Local\\\\Temp\\\\tmpw44sfbvj/udemycontainerazure/opening_hours.txt'}),\n",
       " Document(page_content='Delivery Service:', metadata={'source': 'C:\\\\Users\\\\reesh\\\\AppData\\\\Local\\\\Temp\\\\tmpw44sfbvj/udemycontainerazure/opening_hours.txt'}),\n",
       " Document(page_content='Available: 7 days a week Delivery Hours: 11:00 AM - 10:00 PM Order Method: Directly through our user-friendly chatbot Delivery Area: We cover a wide area around our location, please check with our', metadata={'source': 'C:\\\\Users\\\\reesh\\\\AppData\\\\Local\\\\Temp\\\\tmpw44sfbvj/udemycontainerazure/opening_hours.txt'}),\n",
       " Document(page_content='check with our chatbot to confirm if your address is within our delivery zone. Delivery Fee: A small fee applies, varying depending on the distance. The chatbot will provide you with the exact amount', metadata={'source': 'C:\\\\Users\\\\reesh\\\\AppData\\\\Local\\\\Temp\\\\tmpw44sfbvj/udemycontainerazure/opening_hours.txt'}),\n",
       " Document(page_content='the exact amount before confirming your order. Restaurant Opening Hours:', metadata={'source': 'C:\\\\Users\\\\reesh\\\\AppData\\\\Local\\\\Temp\\\\tmpw44sfbvj/udemycontainerazure/opening_hours.txt'}),\n",
       " Document(page_content='Monday to Thursday: 11:00 AM - 11:00 PM Friday: 11:00 AM - 12:00 AM (midnight) Saturday: 10:00 AM - 12:00 AM (midnight) Sunday: 10:00 AM - 11:00 PM Special Hours: Our kitchen closes 30 minutes before', metadata={'source': 'C:\\\\Users\\\\reesh\\\\AppData\\\\Local\\\\Temp\\\\tmpw44sfbvj/udemycontainerazure/opening_hours.txt'}),\n",
       " Document(page_content=\"30 minutes before the restaurant closing time. Whether you're craving a quick lunch, planning a cozy dinner at home, or simply indulging in a late-night snack, La Tavola Calda is just a chat away.\", metadata={'source': 'C:\\\\Users\\\\reesh\\\\AppData\\\\Local\\\\Temp\\\\tmpw44sfbvj/udemycontainerazure/opening_hours.txt'}),\n",
       " Document(page_content='just a chat away. Enjoy the ease of ordering through our chatbot, and let us take care of the rest. Buon appetito!', metadata={'source': 'C:\\\\Users\\\\reesh\\\\AppData\\\\Local\\\\Temp\\\\tmpw44sfbvj/udemycontainerazure/opening_hours.txt'})]"
      ]
     },
     "execution_count": 12,
     "metadata": {},
     "output_type": "execute_result"
    }
   ],
   "source": [
    "docs = load_and_split_documents()\n",
    "docs"
   ]
  },
  {
   "cell_type": "code",
   "execution_count": 13,
   "metadata": {},
   "outputs": [
    {
     "data": {
      "text/plain": [
       "{'num_added': 24, 'num_updated': 0, 'num_skipped': 0, 'num_deleted': 24}"
      ]
     },
     "execution_count": 13,
     "metadata": {},
     "output_type": "execute_result"
    }
   ],
   "source": [
    "index(docs, record_manager, vector_store, cleanup=\"full\", source_id_key=\"source\")"
   ]
  },
  {
   "cell_type": "code",
   "execution_count": 14,
   "metadata": {},
   "outputs": [
    {
     "data": {
      "text/plain": [
       "[Document(page_content='At La Tavola Calda, we believe in the art of simplicity and the beauty of tradition. Our carefully curated pizza menu, featuring just four exquisite varieties, is a testament to our commitment to', metadata={'source': 'C:\\\\Users\\\\reesh\\\\AppData\\\\Local\\\\Temp\\\\tmpop454n24/udemycontainerazure/food.txt'}),\n",
       " Document(page_content='our commitment to quality over quantity. Each pizza represents a distinct aspect of Italian culinary heritage, crafted with the freshest ingredients and the utmost care.', metadata={'source': 'C:\\\\Users\\\\reesh\\\\AppData\\\\Local\\\\Temp\\\\tmpop454n24/udemycontainerazure/food.txt'}),\n",
       " Document(page_content='We offer four pizzas: Margherita, Salami, Quattro Formaggi, Marshmallow', metadata={'source': 'C:\\\\Users\\\\reesh\\\\AppData\\\\Local\\\\Temp\\\\tmpop454n24/udemycontainerazure/food.txt'}),\n",
       " Document(page_content=\"Pizza Margherita - The Classic Perfection: Paying homage to the colors of the Italian flag, our Margherita is a blend of ripe tomatoes, fresh mozzarella, and basil. It's a timeless classic that lets\", metadata={'source': 'C:\\\\Users\\\\reesh\\\\AppData\\\\Local\\\\Temp\\\\tmpop454n24/udemycontainerazure/food.txt'}),\n",
       " Document(page_content='classic that lets the purity and freshness of the ingredients shine through.', metadata={'source': 'C:\\\\Users\\\\reesh\\\\AppData\\\\Local\\\\Temp\\\\tmpop454n24/udemycontainerazure/food.txt'}),\n",
       " Document(page_content='Pizza Salami - The Flavorful Journey: For those who crave a bit of zest, our Salami pizza offers a spicy kick. The robust flavors of cured Italian salami are balanced by the mellow mozzarella, making', metadata={'source': 'C:\\\\Users\\\\reesh\\\\AppData\\\\Local\\\\Temp\\\\tmpop454n24/udemycontainerazure/food.txt'}),\n",
       " Document(page_content='mozzarella, making every bite a bold experience.', metadata={'source': 'C:\\\\Users\\\\reesh\\\\AppData\\\\Local\\\\Temp\\\\tmpop454n24/udemycontainerazure/food.txt'}),\n",
       " Document(page_content='Pizza Quattro Formaggi - The Cheese Lover’s Dream: A quartet of Italian cheeses, each lending its unique texture and taste, comes together for a pizza that’s sumptuously indulgent. It’s a melody of', metadata={'source': 'C:\\\\Users\\\\reesh\\\\AppData\\\\Local\\\\Temp\\\\tmpop454n24/udemycontainerazure/food.txt'}),\n",
       " Document(page_content='It’s a melody of flavors that cheese aficionados will savor down to the last slice.', metadata={'source': 'C:\\\\Users\\\\reesh\\\\AppData\\\\Local\\\\Temp\\\\tmpop454n24/udemycontainerazure/food.txt'}),\n",
       " Document(page_content='Marshmallow Pizza - The Sweet Innovation: Embracing both tradition and creativity, this dessert pizza is a delightful surprise. It blends the warmth of toasted marshmallows with a rich chocolate', metadata={'source': 'C:\\\\Users\\\\reesh\\\\AppData\\\\Local\\\\Temp\\\\tmpop454n24/udemycontainerazure/food.txt'}),\n",
       " Document(page_content=\"a rich chocolate sauce, creating a dessert that's unforgettably indulgent.\", metadata={'source': 'C:\\\\Users\\\\reesh\\\\AppData\\\\Local\\\\Temp\\\\tmpop454n24/udemycontainerazure/food.txt'}),\n",
       " Document(page_content='By focusing on just four pizzas, we dedicate our time to perfect each one. We invest in sourcing the highest quality ingredients and spend hours perfecting the dough and sauce. This allows us to', metadata={'source': 'C:\\\\Users\\\\reesh\\\\AppData\\\\Local\\\\Temp\\\\tmpop454n24/udemycontainerazure/food.txt'}),\n",
       " Document(page_content=\"This allows us to ensure that every pizza served is not just a meal but an authentic Italian experience. At La Tavola Calda, each pizza is not just cooked; it's crafted with passion and served with\", metadata={'source': 'C:\\\\Users\\\\reesh\\\\AppData\\\\Local\\\\Temp\\\\tmpop454n24/udemycontainerazure/food.txt'}),\n",
       " Document(page_content='and served with pride.', metadata={'source': 'C:\\\\Users\\\\reesh\\\\AppData\\\\Local\\\\Temp\\\\tmpop454n24/udemycontainerazure/food.txt'}),\n",
       " Document(page_content='La Tavola Calda - Delivery Service & Opening Hours', metadata={'source': 'C:\\\\Users\\\\reesh\\\\AppData\\\\Local\\\\Temp\\\\tmpfszaucr3/udemycontainerazure/opening_hours.txt'}),\n",
       " Document(page_content='At La Tavola Calda, we bring the taste of Italy straight to your doorstep. Our modern approach to traditional dining includes a seamless delivery service designed for your convenience. By simply', metadata={'source': 'C:\\\\Users\\\\reesh\\\\AppData\\\\Local\\\\Temp\\\\tmpfszaucr3/udemycontainerazure/opening_hours.txt'}),\n",
       " Document(page_content=\"By simply engaging with our friendly chatbot, you can place your order at any time, and we'll ensure that your favorite pizzas are on their way to you, hot and fresh.\", metadata={'source': 'C:\\\\Users\\\\reesh\\\\AppData\\\\Local\\\\Temp\\\\tmpfszaucr3/udemycontainerazure/opening_hours.txt'}),\n",
       " Document(page_content='Delivery Service:', metadata={'source': 'C:\\\\Users\\\\reesh\\\\AppData\\\\Local\\\\Temp\\\\tmpfszaucr3/udemycontainerazure/opening_hours.txt'}),\n",
       " Document(page_content='Available: 7 days a week Delivery Hours: 11:00 AM - 10:00 PM Order Method: Directly through our user-friendly chatbot Delivery Area: We cover a wide area around our location, please check with our', metadata={'source': 'C:\\\\Users\\\\reesh\\\\AppData\\\\Local\\\\Temp\\\\tmpfszaucr3/udemycontainerazure/opening_hours.txt'}),\n",
       " Document(page_content='check with our chatbot to confirm if your address is within our delivery zone. Delivery Fee: A small fee applies, varying depending on the distance. The chatbot will provide you with the exact amount', metadata={'source': 'C:\\\\Users\\\\reesh\\\\AppData\\\\Local\\\\Temp\\\\tmpfszaucr3/udemycontainerazure/opening_hours.txt'}),\n",
       " Document(page_content='the exact amount before confirming your order. Restaurant Opening Hours:', metadata={'source': 'C:\\\\Users\\\\reesh\\\\AppData\\\\Local\\\\Temp\\\\tmpfszaucr3/udemycontainerazure/opening_hours.txt'}),\n",
       " Document(page_content='Monday to Thursday: 11:00 AM - 11:00 PM Friday: 11:00 AM - 12:00 AM (midnight) Saturday: 10:00 AM - 12:00 AM (midnight) Sunday: 10:00 AM - 11:00 PM Special Hours: Our kitchen closes 30 minutes before', metadata={'source': 'C:\\\\Users\\\\reesh\\\\AppData\\\\Local\\\\Temp\\\\tmpfszaucr3/udemycontainerazure/opening_hours.txt'}),\n",
       " Document(page_content=\"30 minutes before the restaurant closing time. Whether you're craving a quick lunch, planning a cozy dinner at home, or simply indulging in a late-night snack, La Tavola Calda is just a chat away.\", metadata={'source': 'C:\\\\Users\\\\reesh\\\\AppData\\\\Local\\\\Temp\\\\tmpfszaucr3/udemycontainerazure/opening_hours.txt'}),\n",
       " Document(page_content='just a chat away. Enjoy the ease of ordering through our chatbot, and let us take care of the rest. Buon appetito!', metadata={'source': 'C:\\\\Users\\\\reesh\\\\AppData\\\\Local\\\\Temp\\\\tmpfszaucr3/udemycontainerazure/opening_hours.txt'})]"
      ]
     },
     "execution_count": 14,
     "metadata": {},
     "output_type": "execute_result"
    }
   ],
   "source": [
    "docs = load_and_split_documents()\n",
    "docs"
   ]
  },
  {
   "cell_type": "code",
   "execution_count": 15,
   "metadata": {},
   "outputs": [
    {
     "data": {
      "text/plain": [
       "{'num_added': 24, 'num_updated': 0, 'num_skipped': 0, 'num_deleted': 24}"
      ]
     },
     "execution_count": 15,
     "metadata": {},
     "output_type": "execute_result"
    }
   ],
   "source": [
    "index(docs, record_manager, vector_store, cleanup=\"full\", source_id_key=\"source\")"
   ]
  },
  {
   "cell_type": "code",
   "execution_count": 16,
   "metadata": {},
   "outputs": [],
   "source": [
    "import os\n",
    "from langchain_community.document_loaders import AzureBlobStorageContainerLoader\n",
    "from langchain.text_splitter import RecursiveCharacterTextSplitter\n",
    "\n",
    "def load_and_split_documents(chunk_size=200, chunk_overlap=20):\n",
    "    conn_str = os.getenv(\"BLOB_CONN_STRING\")\n",
    "    container_name = os.getenv(\"BLOB_CONTAINER\")\n",
    "\n",
    "    if conn_str is None or container_name is None:\n",
    "        raise ValueError(\"Environment variables for BLOB_CONN_STRING or BLOB_CONTAINER are not set.\")\n",
    "\n",
    "    loader = AzureBlobStorageContainerLoader(conn_str=conn_str, container=container_name)\n",
    "    data = loader.load()\n",
    "    for doc in data:\n",
    "        doc.metadata[\"source\"] = os.path.basename(doc.metadata[\"source\"])\n",
    "\n",
    "    text_splitter = RecursiveCharacterTextSplitter(chunk_size=chunk_size, chunk_overlap=chunk_overlap, length_function=len, is_separator_regex=False)\n",
    "    return text_splitter.split_documents(data)\n"
   ]
  },
  {
   "cell_type": "code",
   "execution_count": 17,
   "metadata": {},
   "outputs": [
    {
     "data": {
      "text/plain": [
       "[Document(page_content='At La Tavola Calda, we believe in the art of simplicity and the beauty of tradition. Our carefully curated pizza menu, featuring just four exquisite varieties, is a testament to our commitment to', metadata={'source': 'food.txt'}),\n",
       " Document(page_content='our commitment to quality over quantity. Each pizza represents a distinct aspect of Italian culinary heritage, crafted with the freshest ingredients and the utmost care.', metadata={'source': 'food.txt'}),\n",
       " Document(page_content='We offer four pizzas: Margherita, Salami, Quattro Formaggi, Marshmallow', metadata={'source': 'food.txt'}),\n",
       " Document(page_content=\"Pizza Margherita - The Classic Perfection: Paying homage to the colors of the Italian flag, our Margherita is a blend of ripe tomatoes, fresh mozzarella, and basil. It's a timeless classic that lets\", metadata={'source': 'food.txt'}),\n",
       " Document(page_content='classic that lets the purity and freshness of the ingredients shine through.', metadata={'source': 'food.txt'}),\n",
       " Document(page_content='Pizza Salami - The Flavorful Journey: For those who crave a bit of zest, our Salami pizza offers a spicy kick. The robust flavors of cured Italian salami are balanced by the mellow mozzarella, making', metadata={'source': 'food.txt'}),\n",
       " Document(page_content='mozzarella, making every bite a bold experience.', metadata={'source': 'food.txt'}),\n",
       " Document(page_content='Pizza Quattro Formaggi - The Cheese Lover’s Dream: A quartet of Italian cheeses, each lending its unique texture and taste, comes together for a pizza that’s sumptuously indulgent. It’s a melody of', metadata={'source': 'food.txt'}),\n",
       " Document(page_content='It’s a melody of flavors that cheese aficionados will savor down to the last slice.', metadata={'source': 'food.txt'}),\n",
       " Document(page_content='Marshmallow Pizza - The Sweet Innovation: Embracing both tradition and creativity, this dessert pizza is a delightful surprise. It blends the warmth of toasted marshmallows with a rich chocolate', metadata={'source': 'food.txt'}),\n",
       " Document(page_content=\"a rich chocolate sauce, creating a dessert that's unforgettably indulgent.\", metadata={'source': 'food.txt'}),\n",
       " Document(page_content='By focusing on just four pizzas, we dedicate our time to perfect each one. We invest in sourcing the highest quality ingredients and spend hours perfecting the dough and sauce. This allows us to', metadata={'source': 'food.txt'}),\n",
       " Document(page_content=\"This allows us to ensure that every pizza served is not just a meal but an authentic Italian experience. At La Tavola Calda, each pizza is not just cooked; it's crafted with passion and served with\", metadata={'source': 'food.txt'}),\n",
       " Document(page_content='and served with pride.', metadata={'source': 'food.txt'}),\n",
       " Document(page_content='La Tavola Calda - Delivery Service & Opening Hours', metadata={'source': 'opening_hours.txt'}),\n",
       " Document(page_content='At La Tavola Calda, we bring the taste of Italy straight to your doorstep. Our modern approach to traditional dining includes a seamless delivery service designed for your convenience. By simply', metadata={'source': 'opening_hours.txt'}),\n",
       " Document(page_content=\"By simply engaging with our friendly chatbot, you can place your order at any time, and we'll ensure that your favorite pizzas are on their way to you, hot and fresh.\", metadata={'source': 'opening_hours.txt'}),\n",
       " Document(page_content='Delivery Service:', metadata={'source': 'opening_hours.txt'}),\n",
       " Document(page_content='Available: 7 days a week Delivery Hours: 11:00 AM - 10:00 PM Order Method: Directly through our user-friendly chatbot Delivery Area: We cover a wide area around our location, please check with our', metadata={'source': 'opening_hours.txt'}),\n",
       " Document(page_content='check with our chatbot to confirm if your address is within our delivery zone. Delivery Fee: A small fee applies, varying depending on the distance. The chatbot will provide you with the exact amount', metadata={'source': 'opening_hours.txt'}),\n",
       " Document(page_content='the exact amount before confirming your order. Restaurant Opening Hours:', metadata={'source': 'opening_hours.txt'}),\n",
       " Document(page_content='Monday to Thursday: 11:00 AM - 11:00 PM Friday: 11:00 AM - 12:00 AM (midnight) Saturday: 10:00 AM - 12:00 AM (midnight) Sunday: 10:00 AM - 11:00 PM Special Hours: Our kitchen closes 30 minutes before', metadata={'source': 'opening_hours.txt'}),\n",
       " Document(page_content=\"30 minutes before the restaurant closing time. Whether you're craving a quick lunch, planning a cozy dinner at home, or simply indulging in a late-night snack, La Tavola Calda is just a chat away.\", metadata={'source': 'opening_hours.txt'}),\n",
       " Document(page_content='just a chat away. Enjoy the ease of ordering through our chatbot, and let us take care of the rest. Buon appetito!', metadata={'source': 'opening_hours.txt'})]"
      ]
     },
     "execution_count": 17,
     "metadata": {},
     "output_type": "execute_result"
    }
   ],
   "source": [
    "docs = load_and_split_documents()\n",
    "docs"
   ]
  },
  {
   "cell_type": "code",
   "execution_count": 18,
   "metadata": {},
   "outputs": [
    {
     "data": {
      "text/plain": [
       "{'num_added': 24, 'num_updated': 0, 'num_skipped': 0, 'num_deleted': 24}"
      ]
     },
     "execution_count": 18,
     "metadata": {},
     "output_type": "execute_result"
    }
   ],
   "source": [
    "index(docs, record_manager, vector_store, cleanup=\"full\", source_id_key=\"source\")"
   ]
  },
  {
   "cell_type": "markdown",
   "metadata": {},
   "source": [
    "Lets now update something in the raw data and upload it again"
   ]
  },
  {
   "cell_type": "code",
   "execution_count": 19,
   "metadata": {},
   "outputs": [],
   "source": [
    "import os\n",
    "from azure.storage.blob import BlobServiceClient\n",
    "\n",
    "folder_path = \"./restaurant\"\n",
    "\n",
    "conn_str=os.getenv(\"BLOB_CONN_STRING\")\n",
    "container_name = os.getenv(\"BLOB_CONTAINER\")\n",
    "\n",
    "\n",
    "blob_service_client = BlobServiceClient.from_connection_string(conn_str=conn_str)\n",
    "\n",
    "for filename in os.listdir(folder_path):\n",
    "    if os.path.isfile(os.path.join(folder_path, filename)):\n",
    "        file_path = os.path.join(folder_path, filename)\n",
    "\n",
    "        blob_client = blob_service_client.get_blob_client(container=container_name, blob=filename)\n",
    "\n",
    "        with open(file_path, \"rb\") as data:\n",
    "            blob_client.upload_blob(data, overwrite=True)"
   ]
  },
  {
   "cell_type": "code",
   "execution_count": 20,
   "metadata": {},
   "outputs": [
    {
     "name": "stdout",
     "output_type": "stream",
     "text": [
      "page_content='At La Tavola Calda, we believe in the art of simplicity and the beauty of tradition. Our carefully curated pizza menu, featuring just four exquisite varieties, is a testament to our commitment to' metadata={'source': 'food.txt'}\n",
      "page_content='our commitment to quality over quantity. Each pizza represents a distinct aspect of Italian culinary heritage, crafted with the freshest ingredients and the utmost care.' metadata={'source': 'food.txt'}\n",
      "page_content='We offer four pizzas: Margherita, Salami, Quattro Formaggi, Marshmallow' metadata={'source': 'food.txt'}\n"
     ]
    }
   ],
   "source": [
    "docs = load_and_split_documents()\n",
    "for doc in docs[0:3]:\n",
    "    print(doc)"
   ]
  },
  {
   "cell_type": "code",
   "execution_count": 21,
   "metadata": {},
   "outputs": [
    {
     "data": {
      "text/plain": [
       "{'num_added': 2, 'num_updated': 0, 'num_skipped': 19, 'num_deleted': 5}"
      ]
     },
     "execution_count": 21,
     "metadata": {},
     "output_type": "execute_result"
    }
   ],
   "source": [
    "index(docs, record_manager, vector_store, cleanup=\"full\", source_id_key=\"source\")"
   ]
  },
  {
   "cell_type": "markdown",
   "metadata": {},
   "source": [
    "We now have linked Blob Storage And PgVector and keep the raw docs and the indexed documents in sync. But in a real app we want to handle that automatically. Thats was Azure functions can do for us. We will take a look at Azure Functions later in the course"
   ]
  }
 ],
 "metadata": {
  "kernelspec": {
   "display_name": "course",
   "language": "python",
   "name": "python3"
  },
  "language_info": {
   "codemirror_mode": {
    "name": "ipython",
    "version": 3
   },
   "file_extension": ".py",
   "mimetype": "text/x-python",
   "name": "python",
   "nbconvert_exporter": "python",
   "pygments_lexer": "ipython3",
   "version": "3.11.10"
  }
 },
 "nbformat": 4,
 "nbformat_minor": 2
}
