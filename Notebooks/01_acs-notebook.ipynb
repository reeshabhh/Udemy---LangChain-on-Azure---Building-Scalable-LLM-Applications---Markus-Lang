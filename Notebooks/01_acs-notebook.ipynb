{
 "cells": [
  {
   "cell_type": "code",
   "execution_count": 1,
   "metadata": {},
   "outputs": [],
   "source": [
    "import os\n",
    "from dotenv import load_dotenv, find_dotenv\n",
    "from azure.core.credentials import AzureKeyCredential\n",
    "from azure.search.documents.indexes import SearchIndexClient\n",
    "from azure.search.documents.indexes.models import (\n",
    "    ComplexField,\n",
    "    CorsOptions,\n",
    "    SearchIndex,\n",
    "    SearchFieldDataType,\n",
    "    SimpleField,\n",
    "    SearchableField\n",
    ")"
   ]
  },
  {
   "cell_type": "code",
   "execution_count": 2,
   "metadata": {},
   "outputs": [
    {
     "data": {
      "text/plain": [
       "True"
      ]
     },
     "execution_count": 2,
     "metadata": {},
     "output_type": "execute_result"
    }
   ],
   "source": [
    "load_dotenv(find_dotenv('../application/.env'))"
   ]
  },
  {
   "cell_type": "code",
   "execution_count": 3,
   "metadata": {},
   "outputs": [],
   "source": [
    "endpoint = os.environ[\"SEARCH_ENDPOINT\"]\n",
    "key = os.environ[\"SEARCH_API_KEY\"]\n",
    "\n",
    "# print(key)\n",
    "\n",
    "client = SearchIndexClient(endpoint, AzureKeyCredential(key))"
   ]
  },
  {
   "cell_type": "code",
   "execution_count": 4,
   "metadata": {},
   "outputs": [],
   "source": [
    "name = \"restaurant\"\n",
    "fields = [\n",
    "    SimpleField(name=\"restaurantId\", type=SearchFieldDataType.String, key=True),\n",
    "    SimpleField(name=\"averageCost\", type=SearchFieldDataType.Double),\n",
    "    SearchableField(name=\"description\", type=SearchFieldDataType.String),\n",
    "    ComplexField(name=\"address\", fields=[\n",
    "        SimpleField(name=\"streetAddress\", type=SearchFieldDataType.String),\n",
    "        SimpleField(name=\"city\", type=SearchFieldDataType.String),\n",
    "    ])\n",
    "]"
   ]
  },
  {
   "cell_type": "code",
   "execution_count": 5,
   "metadata": {},
   "outputs": [
    {
     "name": "stdout",
     "output_type": "stream",
     "text": [
      "Index 'restaurant' already exists.\n"
     ]
    }
   ],
   "source": [
    "from azure.core.exceptions import HttpResponseError\n",
    "\n",
    "cors_options = CorsOptions(allowed_origins=[\"*\"], max_age_in_seconds=60)\n",
    "scoring_profiles = []\n",
    "\n",
    "index = SearchIndex(\n",
    "    name=name,\n",
    "    fields=fields,\n",
    "    scoring_profiles=scoring_profiles,\n",
    "    cors_options=cors_options)\n",
    "\n",
    "\n",
    "try:\n",
    "    result = client.create_index(index)\n",
    "    print(f\"Index '{name}' created.\")\n",
    "except HttpResponseError as e:\n",
    "    print(f\"Index '{name}' already exists.\")\n"
   ]
  },
  {
   "cell_type": "markdown",
   "metadata": {},
   "source": [
    "### Add documents to the index"
   ]
  },
  {
   "cell_type": "code",
   "execution_count": 6,
   "metadata": {},
   "outputs": [],
   "source": [
    "import os\n",
    "from azure.core.credentials import AzureKeyCredential\n",
    "from azure.search.documents import SearchClient\n",
    "\n",
    "index_name = \"restaurant\"\n",
    "endpoint = os.environ[\"SEARCH_ENDPOINT\"]\n",
    "key = os.environ[\"SEARCH_API_KEY\"]\n",
    "\n",
    "documents = [\n",
    "    {\n",
    "        'restaurantId': '1',\n",
    "        'averageCost': 50.0,\n",
    "        'description': 'Traditional Italian cuisine with a modern twist.',\n",
    "        'address': {\n",
    "            'streetAddress': '123 Via Roma',\n",
    "            'city': 'Rome',\n",
    "        }\n",
    "    },\n",
    "    {\n",
    "        'restaurantId': '2',\n",
    "        'averageCost': 70.0,\n",
    "        'description': 'Family-friendly Italian restaurant with classic dishes.',\n",
    "        'address': {\n",
    "            'streetAddress': '456 Via Milano',\n",
    "            'city': 'Milan',\n",
    "        }\n",
    "    },\n",
    "    {\n",
    "        'restaurantId': '3',\n",
    "        'averageCost': 35.0,\n",
    "        'description': 'Cozy trattoria offering regional specialties.',\n",
    "        'address': {\n",
    "            'streetAddress': '789 Via Napoli',\n",
    "            'city': 'Naples',\n",
    "        }\n",
    "    }\n",
    "]\n",
    "\n",
    "search_client = SearchClient(endpoint, index_name, AzureKeyCredential(key))\n",
    "result = search_client.upload_documents(documents=documents)\n"
   ]
  },
  {
   "cell_type": "code",
   "execution_count": 7,
   "metadata": {},
   "outputs": [
    {
     "name": "stdout",
     "output_type": "stream",
     "text": [
      "Upload of document with ID '1' succeeded: True\n",
      "Upload of document with ID '2' succeeded: True\n",
      "Upload of document with ID '3' succeeded: True\n"
     ]
    }
   ],
   "source": [
    "for res in result:\n",
    "    print(f\"Upload of document with ID '{res.key}' succeeded: {res.succeeded}\")"
   ]
  },
  {
   "cell_type": "markdown",
   "metadata": {},
   "source": [
    "Now we can retrieve Documents from ACS"
   ]
  },
  {
   "cell_type": "code",
   "execution_count": 8,
   "metadata": {},
   "outputs": [
    {
     "name": "stdout",
     "output_type": "stream",
     "text": [
      "{'restaurantId': '2', 'averageCost': 70.0, 'description': 'Family-friendly Italian restaurant with classic dishes.', 'address': {'streetAddress': '456 Via Milano', 'city': 'Milan'}, '@search.score': 1.8678205, '@search.reranker_score': None, '@search.highlights': None, '@search.captions': None}\n"
     ]
    }
   ],
   "source": [
    "results = search_client.search(search_text=\"Family friendly?\")\n",
    "\n",
    "for result in results:\n",
    "    print(result)"
   ]
  },
  {
   "cell_type": "markdown",
   "metadata": {},
   "source": [
    "### Using LangChain with ACS"
   ]
  },
  {
   "cell_type": "code",
   "execution_count": 9,
   "metadata": {},
   "outputs": [],
   "source": [
    "import os\n",
    "from langchain_openai import OpenAIEmbeddings\n",
    "from langchain.vectorstores.azuresearch import AzureSearch"
   ]
  },
  {
   "cell_type": "code",
   "execution_count": 10,
   "metadata": {},
   "outputs": [],
   "source": [
    "embeddings: OpenAIEmbeddings = OpenAIEmbeddings(deployment=\"text-embedding-ada-002\", chunk_size=1)\n",
    "index_name: str = \"langchain-example\"\n",
    "vector_store: AzureSearch = AzureSearch(\n",
    "    azure_search_endpoint=os.environ.get(\"SEARCH_ENDPOINT\"),\n",
    "    azure_search_key=os.environ.get(\"SEARCH_API_KEY\"),\n",
    "    index_name=index_name,\n",
    "    embedding_function=embeddings.embed_query,\n",
    ")"
   ]
  },
  {
   "cell_type": "code",
   "execution_count": 11,
   "metadata": {},
   "outputs": [
    {
     "name": "stdout",
     "output_type": "stream",
     "text": [
      "2\n"
     ]
    }
   ],
   "source": [
    "from langchain_community.document_loaders import DirectoryLoader, TextLoader\n",
    "\n",
    "loader = DirectoryLoader('./restaurant', glob=\"**/*.txt\", loader_cls=TextLoader)\n",
    "data = loader.load()\n",
    "print(len(data))"
   ]
  },
  {
   "cell_type": "code",
   "execution_count": 12,
   "metadata": {},
   "outputs": [
    {
     "name": "stdout",
     "output_type": "stream",
     "text": [
      "39\n"
     ]
    }
   ],
   "source": [
    "from langchain.text_splitter import RecursiveCharacterTextSplitter\n",
    "text_splitter = RecursiveCharacterTextSplitter(\n",
    "    chunk_size = 120,\n",
    "    chunk_overlap  = 20,\n",
    "    length_function = len,\n",
    "    is_separator_regex = False,\n",
    ")\n",
    "docs = text_splitter.split_documents(data)\n",
    "print(len(docs))"
   ]
  },
  {
   "cell_type": "code",
   "execution_count": 13,
   "metadata": {},
   "outputs": [
    {
     "data": {
      "text/plain": [
       "['Njg1MDUyMjItOWQ0MS00NzY5LTk0ZjAtYjNmMWM3ZTEwZmFl',\n",
       " 'ZmJiNjZmOGUtMzYxYi00OWFiLTk4MTgtZDJlYTU1ZTVjNDE3',\n",
       " 'NjQ1NTQyOWQtMjcyMi00YzBiLWFlNDgtYTdmNTgzZmJmZmIw',\n",
       " 'NTQ2ZDYyYWMtNjJiMC00NTYzLTk3NzQtZDY0MGUxY2Q3ZDll',\n",
       " 'OTk5OTkxODUtZDg0Ni00YzU0LWE5ZGQtYzQyMDk3MDZlYTcx',\n",
       " 'N2RiZGUwOTAtYzhlMC00YmZiLWI1NTctODcyNDdmODgwMWUx',\n",
       " 'YWUwZTY5ZjQtOWQ3ZS00ODAzLThjYTAtOTM3NzM1YTNkMjA4',\n",
       " 'MWZhMTg4NjYtNjEyNi00MTIzLTg0ZGYtYTMyNDI0ZDYxNmY5',\n",
       " 'ZDAxZTZmMDUtZDZjNC00ODg0LTljZDMtNzc3ZTliYzQ4MjE3',\n",
       " 'MzY1OGQ3OGQtNzJhYi00MzkzLWI3NmUtMTdjNGJkMzgwMDMy',\n",
       " 'NTllMTBiYWUtOGU4Zi00NWZmLTgwNzYtOTg3MjczNDQwZDlh',\n",
       " 'MzQ1NjIwZGMtMjIyZC00YzUwLWFlNTAtYzI5ZTkxMTU1OTlh',\n",
       " 'MDJmMzRmZmItMGFkZC00NThmLWIyMTQtMjU2NzZjMjMyNzQ5',\n",
       " 'ODk3NGU2MjctNjI5Ni00ZTExLWE0MmMtNTkxZWQwMWQ3ODE3',\n",
       " 'MTUwMTdhY2MtODA0My00OWIwLTllMmEtZDZmNWI3ZmI2OWYw',\n",
       " 'ZDhjOWMwNjAtZWUxMS00N2U1LWE3MzUtNzQwMGFkMGFkZjdj',\n",
       " 'YjFjMDc4M2ItY2RkOC00Y2E0LWJlZjYtN2Y0MjJlY2VjMzFl',\n",
       " 'NjUzMDdmOGItMTc1OS00MTdmLTk0Y2ItZjZjZGUyNjQyYmM5',\n",
       " 'Nzg5NjYxY2ItODYyMi00NTZjLTgzY2UtMWEwNTc5MzU1MTBm',\n",
       " 'NTg1Zjk4NDQtM2YwMi00MTU4LTlkMmQtNzgwMGIyYjYwYzIz',\n",
       " 'YTNjY2QzMmItMDhhZi00MTlkLTljZTYtNGYzMmVmNWRlNmE4',\n",
       " 'YWEzYjFlN2MtYWUyNS00ZjAwLTk5NDItYThiNWY0NGUzNmU3',\n",
       " 'NGRmZTk1ODUtNjJkMi00MWUwLTg1MTktYWU3YWRlODg4ZjBk',\n",
       " 'YmY1ZWQ5MjItNDFjMi00ZGQ0LWEyZTgtYzFlZDllZWVjMjQ5',\n",
       " 'ZTA5N2RjMTctMGY1Yy00MGEyLWI3NzctYzJkNDFmZDgyMTNm',\n",
       " 'YTg4MGQ5NjQtOTAxMy00ZDNjLTg4YTYtNTI0M2NmOGMwNmZh',\n",
       " 'MWI0NzExYWEtN2NhOC00NjcxLTg2ZmQtZTcxMDQ3ZTU0MmJk',\n",
       " 'OTAxNjQ0YTAtNDJlNS00ZjAxLTg5OGQtMjM0ODc0NTgxODlm',\n",
       " 'MzNkYTdmMWQtMGYzMi00OGVjLTlmOWQtYzJkOTc2NGIxZWVl',\n",
       " 'YzFkZDYzYjMtZGE5OS00Mjk4LTgxMWItNGMwZTU5Yjk4ODhl',\n",
       " 'NzQyMzJhYzMtYmMzMy00NzM3LTkyMTEtMWVhMDRhNDY3NDJh',\n",
       " 'OTA3ZGE0M2QtNDMwOS00YzRmLTg3NGEtMTIwZjRhNDdmODNl',\n",
       " 'MTZmMjZmODAtYWI0YS00MmU1LTgyMTYtNTEwNWM1NThkZmNl',\n",
       " 'MzYzYWIxNTQtYjY5ZS00ZjJiLTgxZTgtM2M5Mjk3MTM0ZmRj',\n",
       " 'YjU3YjY2ZjQtNTU0NS00YWQ5LWJiZmMtNDlkZmExZTQ3MWRh',\n",
       " 'Njg1YzRlMzItZjZkZi00OGI0LTlhMmEtY2NlNjBmMjZmNjhi',\n",
       " 'MmNiNmIyNTUtYzFhYi00MWJlLTg0N2ItM2ZmOWM5YTFlM2U3',\n",
       " 'Y2IyYTE1NjQtMjRiNC00NzQzLTk3YTgtNzViZjY0OTVkMzZl',\n",
       " 'ZjM5YjI5NDQtZjc2OS00YjAyLTljNmEtNzExMGYzOWY5MThj']"
      ]
     },
     "execution_count": 13,
     "metadata": {},
     "output_type": "execute_result"
    }
   ],
   "source": [
    "vector_store.add_documents(documents=docs)"
   ]
  },
  {
   "cell_type": "code",
   "execution_count": 14,
   "metadata": {},
   "outputs": [
    {
     "name": "stdout",
     "output_type": "stream",
     "text": [
      "[Document(page_content='Restaurant Opening Hours:', metadata={'source': 'restaurant\\\\opening_hours.txt'}), Document(page_content='Restaurant Opening Hours:', metadata={'source': 'restaurant\\\\opening_hours.txt'}), Document(page_content='Special Hours: Our kitchen closes 30 minutes before the restaurant closing time.', metadata={'source': 'restaurant\\\\opening_hours.txt'})]\n"
     ]
    }
   ],
   "source": [
    "\n",
    "docs = vector_store.similarity_search(\n",
    "    query=\"When are the opening hours of the restaurant?\",\n",
    "    k=3,\n",
    "    search_type=\"similarity\",\n",
    ")\n",
    "print(docs)\n"
   ]
  },
  {
   "cell_type": "code",
   "execution_count": 15,
   "metadata": {},
   "outputs": [
    {
     "name": "stdout",
     "output_type": "stream",
     "text": [
      "3\n"
     ]
    }
   ],
   "source": [
    "print(len(docs))"
   ]
  },
  {
   "cell_type": "code",
   "execution_count": 16,
   "metadata": {},
   "outputs": [
    {
     "data": {
      "text/plain": [
       "{'query': 'When are the opening hours of the restaurant?',\n",
       " 'result': \"I don't know the exact opening hours of the restaurant as they were not provided.\"}"
      ]
     },
     "execution_count": 16,
     "metadata": {},
     "output_type": "execute_result"
    }
   ],
   "source": [
    "from langchain.chains import RetrievalQA\n",
    "from langchain_openai import ChatOpenAI\n",
    "\n",
    "qa = RetrievalQA.from_chain_type(llm=ChatOpenAI(), chain_type=\"stuff\", retriever=vector_store.as_retriever())\n",
    "qa.invoke(\"When are the opening hours of the restaurant?\")"
   ]
  },
  {
   "cell_type": "code",
   "execution_count": 17,
   "metadata": {},
   "outputs": [],
   "source": [
    "response = qa.invoke(\"When are the opening hours of the restaurant?\")"
   ]
  },
  {
   "cell_type": "code",
   "execution_count": 18,
   "metadata": {},
   "outputs": [
    {
     "name": "stdout",
     "output_type": "stream",
     "text": [
      "{'query': 'When are the opening hours of the restaurant?', 'result': \"I don't know.\"}\n"
     ]
    }
   ],
   "source": [
    "print(response)"
   ]
  },
  {
   "cell_type": "code",
   "execution_count": 19,
   "metadata": {},
   "outputs": [
    {
     "name": "stdout",
     "output_type": "stream",
     "text": [
      "I don't know.\n"
     ]
    }
   ],
   "source": [
    "print(response['result'])"
   ]
  }
 ],
 "metadata": {
  "kernelspec": {
   "display_name": "course",
   "language": "python",
   "name": "python3"
  },
  "language_info": {
   "codemirror_mode": {
    "name": "ipython",
    "version": 3
   },
   "file_extension": ".py",
   "mimetype": "text/x-python",
   "name": "python",
   "nbconvert_exporter": "python",
   "pygments_lexer": "ipython3",
   "version": "3.11.10"
  }
 },
 "nbformat": 4,
 "nbformat_minor": 2
}
